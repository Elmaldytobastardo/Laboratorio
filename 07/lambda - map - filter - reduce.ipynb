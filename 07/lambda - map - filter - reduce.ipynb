{
  "nbformat": 4,
  "nbformat_minor": 0,
  "metadata": {
    "colab": {
      "name": "Ayudantia funcional.ipynb",
      "provenance": [],
      "toc_visible": true
    },
    "kernelspec": {
      "name": "python3",
      "display_name": "Python 3"
    }
  },
  "cells": [
    {
      "cell_type": "markdown",
      "metadata": {
        "id": "q8a7YfY60B1e",
        "colab_type": "text"
      },
      "source": [
        "# Funciones lambda\n",
        "Son funciones anonimas (que no están asociadas a un identificador). Permiten ejecutar funciones sin definirlas"
      ]
    },
    {
      "cell_type": "code",
      "metadata": {
        "id": "kl-4qt4K0cx7",
        "colab_type": "code",
        "colab": {
          "base_uri": "https://localhost:8080/",
          "height": 35
        },
        "outputId": "d9311df9-44d9-4e86-ef56-b50c296abc89"
      },
      "source": [
        "def multiplicarpor2(num):\n",
        "  return num*2\n",
        "\n",
        "mi_numero = 3\n",
        "multiplicarpor2(mi_numero)"
      ],
      "execution_count": 98,
      "outputs": [
        {
          "output_type": "execute_result",
          "data": {
            "text/plain": [
              "6"
            ]
          },
          "metadata": {
            "tags": []
          },
          "execution_count": 98
        }
      ]
    },
    {
      "cell_type": "code",
      "metadata": {
        "id": "VeUhzlDa0c92",
        "colab_type": "code",
        "colab": {
          "base_uri": "https://localhost:8080/",
          "height": 109
        },
        "outputId": "f8a0ea32-2268-44db-ddf9-7af47e22c565"
      },
      "source": [
        "# podemos definir la funcion asi\n",
        "multpor2_lam = lambda x: x*2\n",
        "\n",
        "mi_nuevo_numero = 10\n",
        "print(f'Aplicando la funcion {multpor2_lam(mi_nuevo_numero)}')\n",
        "arr = [2,3,4]\n",
        "print(f'Al pasar un arreglo {multpor2_lam(arr)}')\n",
        "\n",
        "\n",
        "print('Creamos una nueva funcion para cada elemento del arreglo')\n",
        "mult_arrpor2 = lambda arr: [x*2 for x in arr]\n",
        "print(mult_arrpor2(arr))\n",
        "\n",
        "potencia = lambda x, y : x**y\n",
        "print(f'Potencia {potencia(2,8)}')"
      ],
      "execution_count": 103,
      "outputs": [
        {
          "output_type": "stream",
          "text": [
            "Aplicando la funcion 20\n",
            "Al pasar un arreglo [2, 3, 4, 2, 3, 4]\n",
            "Creamos una nueva funcion para cada elemento del arreglo\n",
            "[4, 6, 8]\n",
            "Potencia 256\n"
          ],
          "name": "stdout"
        }
      ]
    },
    {
      "cell_type": "code",
      "metadata": {
        "id": "5bdoSexn1GZY",
        "colab_type": "code",
        "colab": {
          "base_uri": "https://localhost:8080/",
          "height": 54
        },
        "outputId": "b52dbfd1-6fd5-4887-a85d-1aa1271dcfef"
      },
      "source": [
        "upper_letter = lambda x: x.upper()\n",
        "letter = 'x'\n",
        "print(upper_letter(letter))\n",
        "\n",
        "upper_letter_arr = lambda letter_arr: [upper_letter(letter) for letter in letter_arr]\n",
        "strings = ['a', 'b', 'c', 'd']\n",
        "print(upper_letter_arr(strings))"
      ],
      "execution_count": 104,
      "outputs": [
        {
          "output_type": "stream",
          "text": [
            "X\n",
            "['A', 'B', 'C', 'D']\n"
          ],
          "name": "stdout"
        }
      ]
    },
    {
      "cell_type": "markdown",
      "metadata": {
        "id": "80Wqy7-V26QN",
        "colab_type": "text"
      },
      "source": [
        "# Map\n",
        "\n",
        "Permite aplicar una función a cada elemento del iterable\n",
        "\n",
        "*map(function_a_aplicar, lista_de_entrada)*"
      ]
    },
    {
      "cell_type": "code",
      "metadata": {
        "id": "ofQjX9Ocmtm5",
        "colab_type": "code",
        "colab": {
          "base_uri": "https://localhost:8080/",
          "height": 35
        },
        "outputId": "c5fd81a0-170b-49fe-99ef-6ca0ec4be121"
      },
      "source": [
        "palabras = ['algun', 'texto', 'en', 'minusculas']\n",
        "mapeo_palabras = map( lambda x: x.upper(), palabras)\n",
        "print(list(mapeo_palabras))"
      ],
      "execution_count": 66,
      "outputs": [
        {
          "output_type": "stream",
          "text": [
            "['ALGUN', 'TEXTO', 'EN', 'MINUSCULAS']\n"
          ],
          "name": "stdout"
        }
      ]
    },
    {
      "cell_type": "code",
      "metadata": {
        "id": "qntx9sR2vySd",
        "colab_type": "code",
        "colab": {}
      },
      "source": [
        "# mapeo de strings \n",
        "\n",
        "int1 = [10, 20, 30, 40, 50]\n",
        "int2 = [1, 2, 3]\n",
        "\n",
        "mapeo_ints = map(lambda x,y : x + y, int1, int2 )\n",
        "print(list(mapeo_ints))"
      ],
      "execution_count": 0,
      "outputs": []
    },
    {
      "cell_type": "code",
      "metadata": {
        "id": "el6PpDIenevl",
        "colab_type": "code",
        "colab": {
          "base_uri": "https://localhost:8080/",
          "height": 35
        },
        "outputId": "8bb15bf9-407a-4ee3-c481-1971519d917c"
      },
      "source": [
        "# uso de una funcion anonima misteriosa con map\n",
        "\n",
        "alumnos = ['Carlos', 'Pedro', 'Juan', 'Jose', 'Arturo']\n",
        "notas = [7,6,5,1]\n",
        "\n",
        "mapeo_notas = map(lambda x,y : ord(x[0])+y, alumnos, notas )\n",
        "list(mapeo_notas)"
      ],
      "execution_count": 75,
      "outputs": [
        {
          "output_type": "execute_result",
          "data": {
            "text/plain": [
              "[74, 86, 79, 75]"
            ]
          },
          "metadata": {
            "tags": []
          },
          "execution_count": 75
        }
      ]
    },
    {
      "cell_type": "code",
      "metadata": {
        "id": "7glIo9t6pFON",
        "colab_type": "code",
        "colab": {}
      },
      "source": [
        "# funcion1 ¿que hace?\n",
        "def funcion1(limite):\n",
        "  a,b = 0,1\n",
        "  if limite == 0:\n",
        "    return a\n",
        "  elif limite == 1:\n",
        "    return b\n",
        "  else :\n",
        "    for _ in range(limite):\n",
        "      new_num = a + b\n",
        "      a = b\n",
        "      b = new_num\n",
        "      #a,b = b, a+b\n",
        "    return b"
      ],
      "execution_count": 0,
      "outputs": []
    },
    {
      "cell_type": "code",
      "metadata": {
        "id": "EupqCv6Yqyb5",
        "colab_type": "code",
        "colab": {
          "base_uri": "https://localhost:8080/",
          "height": 35
        },
        "outputId": "5c2bebd4-0978-4080-dfdf-9de391e308d1"
      },
      "source": [
        "pedir_fibonacci = [10, 3, 5, 8, 0]\n",
        "fib = map(lambda x: funcion1(x), pedir_fibonacci)\n",
        "lista_fib = list(fib)\n",
        "print(lista_fib)"
      ],
      "execution_count": 107,
      "outputs": [
        {
          "output_type": "stream",
          "text": [
            "[89, 3, 8, 34, 0]\n"
          ],
          "name": "stdout"
        }
      ]
    },
    {
      "cell_type": "markdown",
      "metadata": {
        "id": "J5anWkj62fcJ",
        "colab_type": "text"
      },
      "source": [
        "# Hacemos lo mismo con un generador"
      ]
    },
    {
      "cell_type": "code",
      "metadata": {
        "id": "VX79Hf4AoWiu",
        "colab_type": "code",
        "colab": {}
      },
      "source": [
        "# generador de fibonacci\n",
        "#def fibonacci(limite):\n",
        "#  a,b = 0,1\n",
        "#  for _ in range(limite):\n",
        "#    yield b\n",
        "#    a,b = b, a+b\n"
      ],
      "execution_count": 0,
      "outputs": []
    },
    {
      "cell_type": "code",
      "metadata": {
        "id": "1y6mmFXAob7m",
        "colab_type": "code",
        "colab": {}
      },
      "source": [
        "# pedir_fibonacci = [10, 3, 5, 8]\n",
        "# fib_generator = map(lambda x: fibonacci(x), pedir_fibonacci)"
      ],
      "execution_count": 0,
      "outputs": []
    },
    {
      "cell_type": "code",
      "metadata": {
        "id": "jMn8fdCNo3WY",
        "colab_type": "code",
        "colab": {
          "base_uri": "https://localhost:8080/",
          "height": 35
        },
        "outputId": "c0e187aa-da12-4bd6-af16-75ee2dd16b89"
      },
      "source": [
        "# list(next(fib))"
      ],
      "execution_count": 80,
      "outputs": [
        {
          "output_type": "execute_result",
          "data": {
            "text/plain": [
              "[1, 1, 2, 3, 5, 8, 13, 21, 34, 55]"
            ]
          },
          "metadata": {
            "tags": []
          },
          "execution_count": 80
        }
      ]
    },
    {
      "cell_type": "markdown",
      "metadata": {
        "id": "B_plmcwYyEVS",
        "colab_type": "text"
      },
      "source": [
        "# Filter\n",
        "Permite filtrar esos valores.\n",
        "\n",
        "Retorna una lista de elementos en los cuales la funcion aplicada retorna *true*"
      ]
    },
    {
      "cell_type": "code",
      "metadata": {
        "id": "FFxL8NVjyDQV",
        "colab_type": "code",
        "colab": {
          "base_uri": "https://localhost:8080/",
          "height": 35
        },
        "outputId": "17eaf0bc-4016-43dc-94a7-9b4639ecc11a"
      },
      "source": [
        "filtrado_impares = filter(lambda x: x%2 != 0, lista_fib)\n",
        "print(list(filtrado_impares))"
      ],
      "execution_count": 88,
      "outputs": [
        {
          "output_type": "stream",
          "text": [
            "[89, 3]\n"
          ],
          "name": "stdout"
        }
      ]
    },
    {
      "cell_type": "code",
      "metadata": {
        "id": "MXSDvSEUyjhE",
        "colab_type": "code",
        "colab": {
          "base_uri": "https://localhost:8080/",
          "height": 35
        },
        "outputId": "950c0028-f943-4939-879f-9179e03310d0"
      },
      "source": [
        "filtrado_pares = filter(lambda x: x%2 == 0, lista_fib)\n",
        "print(list(filtrado_pares))"
      ],
      "execution_count": 89,
      "outputs": [
        {
          "output_type": "stream",
          "text": [
            "[8, 34, 0]\n"
          ],
          "name": "stdout"
        }
      ]
    },
    {
      "cell_type": "markdown",
      "metadata": {
        "id": "i6gi0CkvyvYd",
        "colab_type": "text"
      },
      "source": [
        "# Reduce\n",
        "\n",
        "Es una funcion que permite realizar calculos sobre un lista y retornar un resultado final. Se aplica secuancialmente. \n",
        "\n",
        "Para utilizarla en python, es necesario importarla desde functools\n",
        "\n",
        "\n"
      ]
    },
    {
      "cell_type": "code",
      "metadata": {
        "id": "lrZMAU2EyymR",
        "colab_type": "code",
        "colab": {
          "base_uri": "https://localhost:8080/",
          "height": 35
        },
        "outputId": "d46ebf70-99a8-49b5-c859-cae91d3bc98c"
      },
      "source": [
        "# Retorna el resultado de la suma de todos los elementos\n",
        "from functools import reduce\n",
        "\n",
        "lista = [1, 2, 3,  4]\n",
        "reduccion_1 = reduce (lambda x,y : x + y, lista  )\n",
        "print(reduccion_1)"
      ],
      "execution_count": 91,
      "outputs": [
        {
          "output_type": "stream",
          "text": [
            "10\n"
          ],
          "name": "stdout"
        }
      ]
    },
    {
      "cell_type": "code",
      "metadata": {
        "id": "FC7CxcZLzF2h",
        "colab_type": "code",
        "colab": {
          "base_uri": "https://localhost:8080/",
          "height": 35
        },
        "outputId": "ab462508-a689-4565-eda5-a22131a181d4"
      },
      "source": [
        "# retorna el resultado de la multiplicacion de los elementos de la lista\n",
        "reduccion_2 = reduce (lambda x,y : x*y, lista  )\n",
        "print(reduccion_2)"
      ],
      "execution_count": 94,
      "outputs": [
        {
          "output_type": "stream",
          "text": [
            "24\n"
          ],
          "name": "stdout"
        }
      ]
    },
    {
      "cell_type": "markdown",
      "metadata": {
        "id": "o7q1sgOOzYuU",
        "colab_type": "text"
      },
      "source": [
        "Podemos aplicarlo sobre listas, y producir otro tipo de listas"
      ]
    },
    {
      "cell_type": "code",
      "metadata": {
        "id": "TkElbWiizW_V",
        "colab_type": "code",
        "colab": {
          "base_uri": "https://localhost:8080/",
          "height": 35
        },
        "outputId": "13fe805b-fd28-47bd-f199-ffe03088db32"
      },
      "source": [
        "lista_de_listas = [ [1,2], [3,4], [5,6], [7,8,9]  ]\n",
        "lista_plana = reduce(lambda x,y:x+y, lista_de_listas)\n",
        "print(lista_plana)"
      ],
      "execution_count": 97,
      "outputs": [
        {
          "output_type": "stream",
          "text": [
            "[1, 2, 3, 4, 5, 6, 7, 8, 9]\n"
          ],
          "name": "stdout"
        }
      ]
    },
    {
      "cell_type": "code",
      "metadata": {
        "id": "DkoqKvKsC5X5",
        "colab_type": "code",
        "colab": {}
      },
      "source": [
        ""
      ],
      "execution_count": 0,
      "outputs": []
    },
    {
      "cell_type": "code",
      "metadata": {
        "id": "_w_zH2twC5eB",
        "colab_type": "code",
        "colab": {}
      },
      "source": [
        ""
      ],
      "execution_count": 0,
      "outputs": []
    },
    {
      "cell_type": "code",
      "metadata": {
        "id": "JKlSszSPCjUM",
        "colab_type": "code",
        "colab": {}
      },
      "source": [
        "lista_de_listas = [ [1,2], [3,4], [5,6], [7,8,9]  ]\n",
        "segundalista = map(lambda x:[x*2 for x in x], lista_de_listas)\n"
      ],
      "execution_count": 0,
      "outputs": []
    },
    {
      "cell_type": "code",
      "metadata": {
        "id": "u3rpviqOCtVp",
        "colab_type": "code",
        "colab": {
          "base_uri": "https://localhost:8080/",
          "height": 35
        },
        "outputId": "910a5948-e5a4-41fa-ff05-59871ad7316c"
      },
      "source": [
        "list(segundalista)  "
      ],
      "execution_count": 115,
      "outputs": [
        {
          "output_type": "execute_result",
          "data": {
            "text/plain": [
              "[[2, 4], [6, 8], [10, 12], [14, 16, 18]]"
            ]
          },
          "metadata": {
            "tags": []
          },
          "execution_count": 115
        }
      ]
    }
  ]
}